{
 "cells": [
  {
   "cell_type": "markdown",
   "metadata": {},
   "source": [
    "# `matplotlib` Part 1 tasks\n",
    "\n",
    "Here are some tasks that will require more advanced use of `matplotlib` and `pandas`. The code that required `numpy` was provided to you in the question but is repeated here for clarity."
   ]
  },
  {
   "cell_type": "code",
   "execution_count": 5,
   "metadata": {},
   "outputs": [],
   "source": [
    "# import matplotlib, numpy and pandas using their abbreviations\n",
    "import numpy as np\n",
    "import pandas as pd\n",
    "import matplotlib.pyplot as plt"
   ]
  },
  {
   "cell_type": "code",
   "execution_count": 10,
   "metadata": {},
   "outputs": [],
   "source": [
    "# create two variables x from 0 to 1, with a step of 0.1, and y = sin(x)\n",
    "x = np.arange(0, 1.1, 0.1)  # goes from 0 to 1 in steps of 0.1\n",
    "y = np.sin(x)"
   ]
  },
  {
   "cell_type": "code",
   "execution_count": null,
   "metadata": {},
   "outputs": [],
   "source": [
    "# create a new set of axes, label the x-axis 'x' and the y-axis 'sin(x)'\n",
    "fig, ax = plt.plot()\n",
    "ax.set_<...>('x')\n",
    "ax.<...>_ylabel('sin(x)')\n",
    "\n",
    "# plot y vs x using a solid black line\n",
    "ax.<...>(x, <...>, 'k-')\n",
    "None"
   ]
  },
  {
   "cell_type": "code",
   "execution_count": null,
   "metadata": {},
   "outputs": [],
   "source": [
    "# use latex formatting to plot and label y = x^2, using a blue dotted line\n",
    "fig, ax = <...>.subplots()\n",
    "x = <...>.arange(0, 1, 0.1)\n",
    "y = x <...> 2\n",
    "ax.plot(<...>, <...>, <...>)\n",
    "ax.set_<...>(<...>)\n",
    "ax.<...>_ylabel(r\"$x^2$\")\n",
    "None"
   ]
  },
  {
   "cell_type": "code",
   "execution_count": null,
   "metadata": {},
   "outputs": [],
   "source": [
    "# generate 1 set of input data x, and two sets of randomly distributed output data y1, and y2\n",
    "x = np.arange(0, 1, 0.1)\n",
    "y1 = np.random.<...>(len(<...>))\n",
    "y2 = <...>.<...>.<...>(<...>(x))\n",
    "\n",
    "fig, ax = plt.subplots()\n",
    "# plot y1 vs x as red squares with no line, with label=y1 where 1 is a subscript (use latex formatting)\n",
    "label = r\"$y_1$\"\n",
    "ax.<...>(<...>, <...>, 'rs', label=label)\n",
    "\n",
    "# plot y2 vs x as blue circles with no line with label=y2 where 2 is a subscript (use latex formatting)\n",
    "label = <...>\n",
    "ax.<...>(<...>, y2, <...>, label=label)"
   ]
  },
  {
   "cell_type": "code",
   "execution_count": null,
   "metadata": {},
   "outputs": [],
   "source": [
    "# Create a 2x2 set of axes\n",
    "fig, ax = plt.<...>((<...>, <...>), figsize=(9, 9))\n",
    "\n",
    "# Use numpy to create 4 different sets of data, stored in a list\n",
    "data = []\n",
    "for i in range(<...>):\n",
    "    if i == 0:\n",
    "        x = <...>\n",
    "    elif i == 1:\n",
    "        x = <...>\n",
    "    elif i == 2:\n",
    "        x = <...>\n",
    "    else:\n",
    "        x = <...>\n",
    "    \n",
    "    data.<...>(x)\n",
    "\n",
    "# for each axes, plot a new combination of data, using a different style\n",
    "ax[0][0].plot(data[<...>], data[1], 'k-')\n",
    "\n",
    "ax[0][<...>].plot(<...>, data[2], 'bo')\n",
    "\n",
    "ax[1][<...>].plot(<...>, <...>, <...>)\n",
    "\n",
    "ax[<...>][<...>].plot(<...>, data[0], <...>)\n",
    "\n",
    "# set the top left axis to have a log-scale on the y-axis\n",
    "<...>[<...>][<...>].set_<...>('log')\n",
    "\n",
    "None"
   ]
  },
  {
   "cell_type": "code",
   "execution_count": null,
   "metadata": {},
   "outputs": [],
   "source": []
  }
 ],
 "metadata": {
  "kernelspec": {
   "display_name": "Python 3",
   "language": "python",
   "name": "python3"
  },
  "language_info": {
   "codemirror_mode": {
    "name": "ipython",
    "version": 3
   },
   "file_extension": ".py",
   "mimetype": "text/x-python",
   "name": "python",
   "nbconvert_exporter": "python",
   "pygments_lexer": "ipython3",
   "version": "3.11.9"
  }
 },
 "nbformat": 4,
 "nbformat_minor": 4
}
